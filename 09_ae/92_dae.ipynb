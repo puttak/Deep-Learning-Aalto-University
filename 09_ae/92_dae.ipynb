{
 "cells": [
  {
   "cell_type": "markdown",
   "metadata": {
    "deletable": false,
    "editable": false,
    "nbgrader": {
     "cell_type": "markdown",
     "checksum": "c46c0818599439739971dbd3b92d5598",
     "grade": false,
     "grade_id": "cell-be8c5c03905df198",
     "locked": true,
     "schema_version": 3,
     "solution": false,
     "task": false
    }
   },
   "source": [
    "<div class=\"alert alert-block alert-info\">\n",
    "<b>Number of points for this notebook:</b> 1\n",
    "<br>\n",
    "<b>Deadline:</b> May 11, 2020 (Monday). 23:00\n",
    "</div>\n",
    "\n",
    "# Exercise 9.2. Denoising autoencoders\n",
    "\n",
    "The goal of this exercise is to get familiar with *denoising* autoencoders."
   ]
  },
  {
   "cell_type": "code",
   "execution_count": 1,
   "metadata": {},
   "outputs": [],
   "source": [
    "skip_training = True  # Set this flag to True before validation and submission"
   ]
  },
  {
   "cell_type": "code",
   "execution_count": 2,
   "metadata": {
    "deletable": false,
    "editable": false,
    "nbgrader": {
     "cell_type": "code",
     "checksum": "83bbf952bc63ef66213753c4d3df4ceb",
     "grade": true,
     "grade_id": "cell-4c5ad871b433468b",
     "locked": true,
     "points": 0,
     "schema_version": 3,
     "solution": false,
     "task": false
    }
   },
   "outputs": [],
   "source": [
    "# During evaluation, this cell sets skip_training to True\n",
    "# skip_training = True"
   ]
  },
  {
   "cell_type": "code",
   "execution_count": 3,
   "metadata": {},
   "outputs": [],
   "source": [
    "import os\n",
    "import numpy as np\n",
    "import matplotlib.pyplot as plt\n",
    "%matplotlib inline\n",
    "\n",
    "import torch\n",
    "import torchvision\n",
    "import torchvision.transforms as transforms\n",
    "import torch.nn as nn\n",
    "import torch.nn.functional as F\n",
    "import torch.optim as optim\n",
    "\n",
    "import tools\n",
    "import tests"
   ]
  },
  {
   "cell_type": "code",
   "execution_count": 4,
   "metadata": {},
   "outputs": [
    {
     "name": "stdout",
     "output_type": "stream",
     "text": [
      "The data directory is /coursedata\n"
     ]
    }
   ],
   "source": [
    "# When running on your own computer, you can specify the data directory by:\n",
    "# data_dir = tools.select_data_dir('/your/local/data/directory')\n",
    "data_dir = tools.select_data_dir()"
   ]
  },
  {
   "cell_type": "code",
   "execution_count": 5,
   "metadata": {},
   "outputs": [],
   "source": [
    "# Select the device for training (use GPU if you have one)\n",
    "#device = torch.device('cuda:0')\n",
    "device = torch.device('cpu')"
   ]
  },
  {
   "cell_type": "code",
   "execution_count": 6,
   "metadata": {
    "deletable": false,
    "editable": false,
    "nbgrader": {
     "cell_type": "code",
     "checksum": "4a656abba884bea225c43a917fbd0951",
     "grade": false,
     "grade_id": "cell-59bd1af0b867a73f",
     "locked": true,
     "schema_version": 3,
     "solution": false,
     "task": false
    }
   },
   "outputs": [],
   "source": [
    "if skip_training:\n",
    "    # The models are always evaluated on CPU\n",
    "    device = torch.device(\"cpu\")"
   ]
  },
  {
   "cell_type": "markdown",
   "metadata": {
    "deletable": false,
    "editable": false,
    "nbgrader": {
     "cell_type": "markdown",
     "checksum": "16d54f46952cc41603e69e73aea98e8e",
     "grade": false,
     "grade_id": "cell-b2b6a9c89bb934a4",
     "locked": true,
     "schema_version": 3,
     "solution": false,
     "task": false
    }
   },
   "source": [
    "# Data\n",
    "\n",
    "In this exercise, we will use MNIST to create a new dataset (that we call varianceMNIST). In the new dataset, the information about the shapes of the digits is represented in the variances of the pixel intensities and not in the pixel intensities (like in MNIST). We use a custom `transform.Lambda()` to generate the dataset. Note that our dataset contains an infinite amount of samples because we generate different noise instances every time we request the data. The number of shapes is of course limited to the number of digits in the MNIST dataset.\n",
    "\n",
    "This is a challenging dataset and a plain bottleneck autoencoder (from Exercise 9.1) with a mean-squared error (MSE) loss cannot encode useful information in the bottleneck layer. However, a denoising autoencoder trained with an MSE loss is able to encode the shapes of the digits in the bottleneck layer."
   ]
  },
  {
   "cell_type": "code",
   "execution_count": 7,
   "metadata": {
    "deletable": false,
    "editable": false,
    "nbgrader": {
     "cell_type": "code",
     "checksum": "019586b617be8bbc28c79a50437ff101",
     "grade": false,
     "grade_id": "cell-e59e6a0054c13c82",
     "locked": true,
     "schema_version": 3,
     "solution": false,
     "task": false
    }
   },
   "outputs": [],
   "source": [
    "# We will use varianceMNIST data in this exercise\n",
    "transform = transforms.Compose([\n",
    "    transforms.ToTensor(),  # Transform to tensor\n",
    "    transforms.Lambda(lambda x: x * torch.randn_like(x))\n",
    "])\n",
    "\n",
    "trainset = torchvision.datasets.MNIST(root=data_dir, train=True, download=True, transform=transform)\n",
    "trainloader = torch.utils.data.DataLoader(trainset, batch_size=32, shuffle=True)"
   ]
  },
  {
   "cell_type": "markdown",
   "metadata": {
    "deletable": false,
    "editable": false,
    "nbgrader": {
     "cell_type": "markdown",
     "checksum": "8373dd37832ca59582d6966b0bbfdfad",
     "grade": false,
     "grade_id": "cell-9e0ac40239400446",
     "locked": true,
     "schema_version": 3,
     "solution": false,
     "task": false
    }
   },
   "source": [
    "We visualize some random training samples in the cell below. As you can see, we can quite easily identify the shapes and recognize the digits."
   ]
  },
  {
   "cell_type": "code",
   "execution_count": 8,
   "metadata": {
    "deletable": false,
    "editable": false,
    "nbgrader": {
     "cell_type": "code",
     "checksum": "84f334d2457f04f376e51df1f5770b7e",
     "grade": false,
     "grade_id": "cell-3b2f4813f230f675",
     "locked": true,
     "schema_version": 3,
     "solution": false,
     "task": false
    }
   },
   "outputs": [
    {
     "data": {
      "image/png": "[encoded data removed]",
      "text/plain": [
       "<Figure size 576x576 with 1 Axes>"
      ]
     },
     "metadata": {},
     "output_type": "display_data"
    }
   ],
   "source": [
    "images, labels = iter(trainloader).next()\n",
    "tools.plot_images(images[:8], ncol=4, cmap=plt.cm.bwr, clim=[-3,3])"
   ]
  },
  {
   "cell_type": "markdown",
   "metadata": {
    "deletable": false,
    "editable": false,
    "nbgrader": {
     "cell_type": "markdown",
     "checksum": "50648356cc07337524c37315d7fb0172",
     "grade": false,
     "grade_id": "cell-64dcf0d0caa30c3a",
     "locked": true,
     "schema_version": 3,
     "solution": false,
     "task": false
    }
   },
   "source": [
    "# Denoising autoencoder (DAE)\n",
    "\n",
    "### Optimal denoising function\n",
    "\n",
    "Suppose we corrupt an image $\\mathbf{x}$ of the varianceMNIST dataset with a zero-mean Gaussian noise with standard deviation $\\sigma_n$. For a given clean pixel value $x$, the corrupted value $\\tilde{x}$ is thus produced as:\n",
    "$$\n",
    "\\tilde{x} = x + n, \\qquad n \\sim \\mathcal{N}(0, \\sigma^2_n)\n",
    "$$\n",
    "Please do not confuse the corruption process with the generative process of the varianceMNIST dataset. We assume that the varianceMNIST dataset is given to us, while we are free to select any corruption process to train a DAE. In this experiment, we choose Gaussian corruption.\n",
    "\n",
    "Knowing the generative process of the varianceMNIST dataset (which is a bit of cheating because we usually do not know the data generative process), we can compute the optimal denoising function which produces an estimate of the clean pixel value $x$ given corrupted value $\\tilde{x}$:\n",
    "$$\n",
    "g(\\tilde{x}) = \\tilde{x} \\: \\text{sigmoid}(f(\\sigma_x^2, \\sigma_n^2))\n",
    "$$\n",
    "where $f$ is some function of the variance $\\sigma^2_x$ of a pixel intensity in the varianceMNIST dataset and the variance $\\sigma^2_n$ of the corruption noise.\n",
    "\n",
    "\n",
    "In the cell below, your task is to implement a denoising autoencoder (DAE) which can learn to approximate the optimal denoising function shown above.\n",
    "* Our DAE will be trained to learn the optimal denoising function $g(\\tilde{x})$. In each training iteration, we feed corrupted images $\\tilde{\\mathbf{x}}$ to the inputs of the DAE and provide the corresponding clean images $\\mathbf{x}$ as the targets for the DAE outputs.\n",
    "* To learn useful representations (the shapes of the digits for the varianceMNIST dataset), our DAE will have a bottleneck layer with `n_components` elements. It is the output of the encoder.\n",
    "* We are not going to use values of $\\sigma_x^2$ and $\\sigma_n^2$ inside the DAE: The value of $\\sigma_x^2$ we simply do not know. We know the value of $\\sigma_n^2$ (because we select the corruption process) but we are not going to use that value in the computations of the denoising function.\n",
    "* Look carefully at the structure of the optimal denoising function. We can select the architecture of the DAE that makes it easy to perform the computations needed for optimal denoising.\n",
    "\n",
    "The proposed architecture for the DAE:\n",
    "* Encoder:\n",
    "    * `Conv2d` layer with kernel size 5 with 6 output channels, followed by ReLU\n",
    "    * `Conv2d` layer with kernel size 5 with 16 output channels, followed by ReLU\n",
    "    * Fully-connected layer with 250 output features, followed by ReLU\n",
    "    * Fully-connected layer with `n_components`\n",
    "* Decoder:\n",
    "    * Fully-connected layer with 250 output features, followed by ReLU\n",
    "    * Fully-connected layer with 250 input features, followed by ReLU\n",
    "    * `ConvTranspose2d` layer with kernel size 5 with 16 input channels, followed by ReLU\n",
    "    * `ConvTranspose2d` layer with kernel size 5 with 6 input channels\n",
    "\n",
    "Notes:\n",
    "* The exact architecture is not tested in this notebook. The above description is not full, you need to add some missing connections using the knowledge of the form of the optimal denoising function.\n",
    "* Please use recommended convolutional layers in the encoder and the decoder. If the autoencoder consists of only fully-connected layers, the learning problem is harder."
   ]
  },
  {
   "cell_type": "code",
   "execution_count": 9,
   "metadata": {},
   "outputs": [],
   "source": [
    "class Reshape(nn.Module):\n",
    "    def __init__(self, *args):\n",
    "        super(Reshape, self).__init__()\n",
    "        self.shape = args\n",
    "\n",
    "    def forward(self, x):\n",
    "        return x.view((x.shape[0], *self.shape))"
   ]
  },
  {
   "cell_type": "code",
   "execution_count": 10,
   "metadata": {
    "deletable": false,
    "nbgrader": {
     "cell_type": "code",
     "checksum": "b8a4fcd848a331c854ce2413c0fe692f",
     "grade": false,
     "grade_id": "DAE",
     "locked": false,
     "schema_version": 3,
     "solution": true,
     "task": false
    }
   },
   "outputs": [],
   "source": [
    "class DAE(nn.Module):\n",
    "    def __init__(self, n_components=10):\n",
    "        # YOUR CODE HERE\n",
    "        super(DAE, self).__init__()\n",
    "\n",
    "        self.enc = nn.Sequential(\n",
    "            nn.Conv2d(1, 6, kernel_size=5, stride=2, padding=0),\n",
    "            nn.ReLU(),\n",
    "            nn.Conv2d(6, 16, kernel_size=5, stride=2, padding=0),\n",
    "            nn.ReLU(),\n",
    "            nn.Flatten(),\n",
    "            nn.Linear(256, 250),\n",
    "            nn.ReLU(),\n",
    "            nn.Linear(250, n_components)\n",
    "        )\n",
    "\n",
    "        self.dec_1 = nn.Sequential(\n",
    "            nn.Linear(n_components, 250),\n",
    "            nn.ReLU(),\n",
    "            nn.Linear(250, 256),\n",
    "            nn.ReLU(),\n",
    "        )\n",
    "\n",
    "        self.dec_2 = nn.Sequential(            \n",
    "            nn.ConvTranspose2d(16, 6, kernel_size=5, stride=2, output_padding=1),\n",
    "            nn.ReLU(),\n",
    "            nn.ConvTranspose2d(6, 1, kernel_size=5, stride=2, output_padding=1)\n",
    "        )\n",
    "\n",
    "\n",
    "    def forward(self, x):\n",
    "        # YOUR CODE HERE\n",
    "        x_in = x.clone()\n",
    "        z = self.enc(x)\n",
    "        y = self.dec_1(z)\n",
    "        spatial = np.sqrt(y.size(1) / 16).astype(int)\n",
    "        y = y.reshape(-1,16,spatial,spatial)\n",
    "        x = self.dec_2(y)\n",
    "        return z, x_in * F.sigmoid(x)\n",
    "\n"
   ]
  },
  {
   "cell_type": "code",
   "execution_count": 11,
   "metadata": {
    "deletable": false,
    "editable": false,
    "nbgrader": {
     "cell_type": "code",
     "checksum": "762ad40a5382484ccd26e888e90e3868",
     "grade": false,
     "grade_id": "cell-00fa5a667ce568cc",
     "locked": true,
     "schema_version": 3,
     "solution": false,
     "task": false
    }
   },
   "outputs": [
    {
     "name": "stdout",
     "output_type": "stream",
     "text": [
      "Success\n"
     ]
    },
    {
     "name": "stderr",
     "output_type": "stream",
     "text": [
      "/opt/conda/lib/python3.7/site-packages/torch/nn/functional.py:1351: UserWarning: nn.functional.sigmoid is deprecated. Use torch.sigmoid instead.\n",
      "  warnings.warn(\"nn.functional.sigmoid is deprecated. Use torch.sigmoid instead.\")\n"
     ]
    }
   ],
   "source": [
    "def test_DAE_shapes():\n",
    "    n_components = 2\n",
    "    dae = DAE(n_components)\n",
    "\n",
    "    x = torch.randn(3, 1, 28, 28)\n",
    "    z, y = dae(x)\n",
    "    assert z.shape == torch.Size([3, n_components]), f\"Bad z.shape: {z.shape}\"\n",
    "    assert y.shape == x.shape, \"Bad y.shape: {y.shape}\"\n",
    "    print('Success')\n",
    "\n",
    "test_DAE_shapes()"
   ]
  },
  {
   "cell_type": "markdown",
   "metadata": {
    "deletable": false,
    "editable": false,
    "nbgrader": {
     "cell_type": "markdown",
     "checksum": "77dcf973d8738d2241d863fce4f7c2e8",
     "grade": false,
     "grade_id": "cell-b0025c31387e75cf",
     "locked": true,
     "schema_version": 3,
     "solution": false,
     "task": false
    }
   },
   "source": [
    "# Train a denoising autoencoder"
   ]
  },
  {
   "cell_type": "code",
   "execution_count": 12,
   "metadata": {
    "deletable": false,
    "editable": false,
    "nbgrader": {
     "cell_type": "code",
     "checksum": "8d993412a5a1f5975a364f1f810e798c",
     "grade": false,
     "grade_id": "cell-78dea48b9207c439",
     "locked": true,
     "schema_version": 3,
     "solution": false,
     "task": false
    }
   },
   "outputs": [
    {
     "data": {
      "text/plain": [
       "DAE(\n",
       "  (enc): Sequential(\n",
       "    (0): Conv2d(1, 6, kernel_size=(5, 5), stride=(2, 2))\n",
       "    (1): ReLU()\n",
       "    (2): Conv2d(6, 16, kernel_size=(5, 5), stride=(2, 2))\n",
       "    (3): ReLU()\n",
       "    (4): Flatten()\n",
       "    (5): Linear(in_features=256, out_features=250, bias=True)\n",
       "    (6): ReLU()\n",
       "    (7): Linear(in_features=250, out_features=10, bias=True)\n",
       "  )\n",
       "  (dec_1): Sequential(\n",
       "    (0): Linear(in_features=10, out_features=250, bias=True)\n",
       "    (1): ReLU()\n",
       "    (2): Linear(in_features=250, out_features=256, bias=True)\n",
       "    (3): ReLU()\n",
       "  )\n",
       "  (dec_2): Sequential(\n",
       "    (0): ConvTranspose2d(16, 6, kernel_size=(5, 5), stride=(2, 2), output_padding=(1, 1))\n",
       "    (1): ReLU()\n",
       "    (2): ConvTranspose2d(6, 1, kernel_size=(5, 5), stride=(2, 2), output_padding=(1, 1))\n",
       "  )\n",
       ")"
      ]
     },
     "execution_count": 12,
     "metadata": {},
     "output_type": "execute_result"
    }
   ],
   "source": [
    "# Create an autoencoder\n",
    "n_components = 10\n",
    "dae = DAE(n_components)\n",
    "dae.to(device)"
   ]
  },
  {
   "cell_type": "markdown",
   "metadata": {
    "deletable": false,
    "editable": false,
    "nbgrader": {
     "cell_type": "markdown",
     "checksum": "43719bd8329f33bea79acadd186912b1",
     "grade": false,
     "grade_id": "cell-05c2281f8c2211fc",
     "locked": true,
     "schema_version": 3,
     "solution": false,
     "task": false
    }
   },
   "source": [
    "### Training loop\n",
    "\n",
    "Implement the training loop in the cell below. Training proceeds similarly to the standard bottleneck autoencoder. The difference is that the encoder gets *corrupted* training images as inputs and the targets are the varianceMNIST digits without the corruption noise.\n",
    "\n",
    "The recommended hyperparameters:\n",
    "* Corruption of varianceMNIST images with **additive** Gaussian noise with zero mean and standard deivation $\\sigma_n=0.2$.\n",
    "* Adam optimizer with learning rate 0.001\n",
    "* MSE loss\n",
    "\n",
    "Hints:\n",
    "- Training usually converges fast, a couple of epochs should suffice.\n",
    "- The loss at convergence should be close to 0.009."
   ]
  },
  {
   "cell_type": "code",
   "execution_count": 13,
   "metadata": {
    "deletable": false,
    "nbgrader": {
     "cell_type": "code",
     "checksum": "172280b79837ad6192e61ef225d16ea9",
     "grade": false,
     "grade_id": "training_loop",
     "locked": false,
     "schema_version": 3,
     "solution": true,
     "task": false
    }
   },
   "outputs": [],
   "source": [
    "# Training loop\n",
    "if not skip_training:\n",
    "    # YOUR CODE HERE\n",
    "    optimizer = optim.Adam(dae.parameters(), lr=0.001)\n",
    "    criterion = nn.MSELoss()\n",
    "    for epoch in range(10):\n",
    "        running_loss = 0.0\n",
    "        for i, data in enumerate(trainloader, 0):\n",
    "            inputs, labels = data\n",
    "            inputs, labels = inputs.to(device), labels.to(device)\n",
    "            \n",
    "            noise = inputs.clone().normal_(mean=0,std=0.2)\n",
    "            \n",
    "            optimizer.zero_grad()\n",
    "            \n",
    "            z, outputs = dae(inputs+noise)\n",
    "            \n",
    "            loss = criterion(outputs, inputs)\n",
    "            loss.backward()\n",
    "            \n",
    "            optimizer.step()\n",
    "\n",
    "            running_loss += loss.item()\n",
    "            if i % 1000 == 999:  \n",
    "                print('[%d, %5d] loss: %.3f' %\n",
    "                      (epoch + 1, i + 1, running_loss / 1000))\n",
    "                running_loss = 0.0"
   ]
  },
  {
   "cell_type": "code",
   "execution_count": 14,
   "metadata": {
    "deletable": false,
    "editable": false,
    "nbgrader": {
     "cell_type": "code",
     "checksum": "424f7e706baead7b6f31324f1eec5d52",
     "grade": false,
     "grade_id": "cell-d9871235237c49d0",
     "locked": true,
     "schema_version": 3,
     "solution": false,
     "task": false
    }
   },
   "outputs": [
    {
     "name": "stdout",
     "output_type": "stream",
     "text": [
      "Model loaded from 9_dae.pth.\n"
     ]
    }
   ],
   "source": [
    "# Save the model to disk (the pth-files will be submitted automatically together with your notebook)\n",
    "if not skip_training:\n",
    "    tools.save_model(dae, '9_dae.pth')\n",
    "else:\n",
    "    dae = DAE(n_components=10)\n",
    "    tools.load_model(dae, '9_dae.pth', device)"
   ]
  },
  {
   "cell_type": "markdown",
   "metadata": {
    "deletable": false,
    "editable": false,
    "nbgrader": {
     "cell_type": "markdown",
     "checksum": "6d0497cba0dda7555c86c847de8b8fb1",
     "grade": false,
     "grade_id": "cell-7953c9131c274027",
     "locked": true,
     "schema_version": 3,
     "solution": false,
     "task": false
    }
   },
   "source": [
    "### Visualize embeddings\n",
    "\n",
    "Let us visualize the latent space in the cell below. If your DAE does a good job, you should clearly see ten clusters corresponding to the ten classes."
   ]
  },
  {
   "cell_type": "code",
   "execution_count": 15,
   "metadata": {
    "deletable": false,
    "editable": false,
    "nbgrader": {
     "cell_type": "code",
     "checksum": "0b7340d5da797517bd400d95fc6b8066",
     "grade": false,
     "grade_id": "cell-7b912a34da7ea0ce",
     "locked": true,
     "schema_version": 3,
     "solution": false,
     "task": false
    }
   },
   "outputs": [
    {
     "name": "stdout",
     "output_type": "stream",
     "text": [
      "Use t-SNE\n"
     ]
    },
    {
     "data": {
      "image/png": "[encoded data removed]",
      "text/plain": [
       "<Figure size 432x288 with 1 Axes>"
      ]
     },
     "metadata": {
      "needs_background": "light"
     },
     "output_type": "display_data"
    }
   ],
   "source": [
    "tests.visualize_embeddings(lambda x: dae(x)[0], trainloader, n_samples=1000, device=device)"
   ]
  },
  {
   "cell_type": "markdown",
   "metadata": {
    "deletable": false,
    "editable": false,
    "nbgrader": {
     "cell_type": "markdown",
     "checksum": "a4ffe217eacbfe3c570b8ded01c07647",
     "grade": false,
     "grade_id": "cell-a12ae53cbe38abd0",
     "locked": true,
     "schema_version": 3,
     "solution": false,
     "task": false
    }
   },
   "source": [
    "In the cell below, we denoise some test images using the trained DAE. If your DAE does a good job, it should remove noise from the background."
   ]
  },
  {
   "cell_type": "code",
   "execution_count": 16,
   "metadata": {
    "deletable": false,
    "editable": false,
    "nbgrader": {
     "cell_type": "code",
     "checksum": "01c2a021cbb39dda0b73fdf6607ec577",
     "grade": false,
     "grade_id": "cell-9e0b910e916b4703",
     "locked": true,
     "schema_version": 3,
     "solution": false,
     "task": false
    }
   },
   "outputs": [
    {
     "name": "stderr",
     "output_type": "stream",
     "text": [
      "/opt/conda/lib/python3.7/site-packages/torch/nn/functional.py:1351: UserWarning: nn.functional.sigmoid is deprecated. Use torch.sigmoid instead.\n",
      "  warnings.warn(\"nn.functional.sigmoid is deprecated. Use torch.sigmoid instead.\")\n"
     ]
    },
    {
     "data": {
      "image/png": "[encoded data removed]",
      "text/plain": [
       "<Figure size 576x576 with 1 Axes>"
      ]
     },
     "metadata": {},
     "output_type": "display_data"
    }
   ],
   "source": [
    "def plot_denoising(trainloader):\n",
    "    dataiter = iter(trainloader)\n",
    "    images, labels = dataiter.next()\n",
    "    images = images[:4].to(device)\n",
    "\n",
    "    with torch.no_grad():\n",
    "        corrupted_images = images + 0.2 * torch.randn_like(images)\n",
    "        z, reconstructions = dae(corrupted_images)\n",
    "    tools.plot_images(\n",
    "        torch.cat([corrupted_images, reconstructions]),\n",
    "        ncol=4, cmap=plt.cm.bwr, clim=[-3,3]\n",
    "    )\n",
    "\n",
    "plot_denoising(trainloader)"
   ]
  },
  {
   "cell_type": "markdown",
   "metadata": {
    "deletable": false,
    "editable": false,
    "nbgrader": {
     "cell_type": "markdown",
     "checksum": "564e67c421adcc4ae45ddcbd397dae6d",
     "grade": false,
     "grade_id": "cell-4ed4c7d66516fa37",
     "locked": true,
     "schema_version": 3,
     "solution": false,
     "task": false
    }
   },
   "source": [
    "## Test the quality of the produced embeddings by classification\n",
    "\n",
    "We will test the quality of the produced encodings by training a simple linear regression classifier using the encoded images. If the classifier gives a reasonable accuracy, this is an evidence that we learned to represent the shapes of the digits in the bottleneck layer."
   ]
  },
  {
   "cell_type": "code",
   "execution_count": 17,
   "metadata": {
    "deletable": false,
    "editable": false,
    "nbgrader": {
     "cell_type": "code",
     "checksum": "57772a6e6ab397a144284f09033d5741",
     "grade": false,
     "grade_id": "cell-e0d4533abca6846a",
     "locked": true,
     "schema_version": 3,
     "solution": false,
     "task": false
    }
   },
   "outputs": [],
   "source": [
    "testset = torchvision.datasets.MNIST(root=data_dir, train=False, download=True, transform=transform)\n",
    "testloader = torch.utils.data.DataLoader(testset, batch_size=100, shuffle=False)"
   ]
  },
  {
   "cell_type": "code",
   "execution_count": 18,
   "metadata": {
    "deletable": false,
    "editable": false,
    "nbgrader": {
     "cell_type": "code",
     "checksum": "3c1ba9a1e331a6bace0db5dcf15bea0d",
     "grade": false,
     "grade_id": "cell-7e181194d756063b",
     "locked": true,
     "schema_version": 3,
     "solution": false,
     "task": false
    }
   },
   "outputs": [],
   "source": [
    "# Encode data samples using the encoder\n",
    "def encode(dataset, dae):\n",
    "    dataloader = torch.utils.data.DataLoader(dataset, batch_size=100, shuffle=False)\n",
    "    with torch.no_grad():\n",
    "        embeddings = []\n",
    "        labels = []\n",
    "        for images, labels_ in dataloader:\n",
    "            z, rec = dae(images.to(device))\n",
    "            embeddings.append(z)\n",
    "            labels.append(labels_)\n",
    "\n",
    "        embeddings = torch.cat(embeddings, dim=0)\n",
    "        labels = torch.cat(labels, dim=0)\n",
    "    return embeddings, labels\n",
    "\n",
    "traincodes, trainlabels = encode(trainset, dae)  # traincodes is (60000, 10)\n",
    "testcodes, testlabels = encode(testset, dae)  # testcodes is (10000, 10)"
   ]
  },
  {
   "cell_type": "code",
   "execution_count": 19,
   "metadata": {
    "deletable": false,
    "editable": false,
    "nbgrader": {
     "cell_type": "code",
     "checksum": "957c1af8d354975b3d6d86b4e4fe725d",
     "grade": true,
     "grade_id": "accuracy",
     "locked": true,
     "points": 1,
     "schema_version": 3,
     "solution": false,
     "task": false
    }
   },
   "outputs": [
    {
     "name": "stdout",
     "output_type": "stream",
     "text": [
      "Accuracy with a linear classifier: 86.75%\n",
      "Success\n"
     ]
    }
   ],
   "source": [
    "# Train a simple linear classifier\n",
    "from sklearn.linear_model import LogisticRegression\n",
    "\n",
    "logreg = LogisticRegression(C=1e5, solver='lbfgs', multi_class='multinomial', max_iter=200)\n",
    "logreg.fit(traincodes.cpu(), trainlabels.cpu())\n",
    "\n",
    "predicted_labels = logreg.predict(testcodes.cpu())  # (10000,)\n",
    "\n",
    "accuracy = np.sum(testlabels.cpu().numpy() == predicted_labels) / predicted_labels.size\n",
    "print('Accuracy with a linear classifier: %.2f%%' % (accuracy*100))\n",
    "assert accuracy > .83, \"Poor accuracy of the embeddings: classification accuracy is %.2f%%\" % (accuracy*100)\n",
    "print('Success')"
   ]
  },
  {
   "cell_type": "markdown",
   "metadata": {
    "deletable": false,
    "editable": false,
    "nbgrader": {
     "cell_type": "markdown",
     "checksum": "f3b1a9f1756b62c370ba87c8f496a926",
     "grade": false,
     "grade_id": "cell-49dd30e7e1be67c5",
     "locked": true,
     "schema_version": 3,
     "solution": false,
     "task": false
    }
   },
   "source": [
    "<div class=\"alert alert-block alert-info\">\n",
    "<b>Conclusions</b>\n",
    "</div>\n",
    "\n",
    "In this exercise, we trained a denoising autoencoder to encode meaningful information in the bottleneck layer. The codes produced in the bottleneck layer are only 10-dimensional but they can represent useful information present in the original $28 \\times 28 = 784$-dimensional images. You can try to use in this task a plain bottleneck autoencoder (trained without the corruption process) with MSE loss and you will see that it fails to develop useful representations."
   ]
  }
 ],
 "metadata": {
  "kernelspec": {
   "display_name": "Python 3",
   "language": "python",
   "name": "python3"
  },
  "language_info": {
   "codemirror_mode": {
    "name": "ipython",
    "version": 3
   },
   "file_extension": ".py",
   "mimetype": "text/x-python",
   "name": "python",
   "nbconvert_exporter": "python",
   "pygments_lexer": "ipython3",
   "version": "3.7.3"
  },
  "varInspector": {
   "cols": {
    "lenName": 16,
    "lenType": 16,
    "lenVar": 40
   },
   "kernels_config": {
    "python": {
     "delete_cmd_postfix": "",
     "delete_cmd_prefix": "del ",
     "library": "var_list.py",
     "varRefreshCmd": "print(var_dic_list())"
    },
    "r": {
     "delete_cmd_postfix": ") ",
     "delete_cmd_prefix": "rm(",
     "library": "var_list.r",
     "varRefreshCmd": "cat(var_dic_list()) "
    }
   },
   "types_to_exclude": [
    "module",
    "function",
    "builtin_function_or_method",
    "instance",
    "_Feature"
   ],
   "window_display": false
  }
 },
 "nbformat": 4,
 "nbformat_minor": 2
}
